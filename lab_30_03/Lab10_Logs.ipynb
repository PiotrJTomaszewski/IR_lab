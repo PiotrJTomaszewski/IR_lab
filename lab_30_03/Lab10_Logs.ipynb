{
 "cells": [
  {
   "cell_type": "code",
   "execution_count": 16,
   "metadata": {
    "collapsed": true
   },
   "outputs": [],
   "source": [
    "%matplotlib inline\n",
    "import numpy as np\n",
    "import matplotlib.pyplot as plt\n",
    "import datetime\n",
    "import re"
   ]
  },
  {
   "cell_type": "markdown",
   "metadata": {},
   "source": [
    "1) Log file is loaded"
   ]
  },
  {
   "cell_type": "code",
   "execution_count": 2,
   "metadata": {},
   "outputs": [
    {
     "output_type": "stream",
     "name": "stdout",
     "text": "156.15.13.173 [01/Jan/2018:11:13:49 +0100] \"GET AddProduct.html HTTP/1.0\" 200 2356\n176.247.135.49 [01/Jan/2018:11:18:07 +0100] \"GET Shop.html HTTP/1.0\" 200 7466\n176.247.135.49 [01/Jan/2018:11:19:05 +0100] \"GET AddProduct.html HTTP/1.0\" 200 2356\n"
    }
   ],
   "source": [
    "file = open(\"log.txt\", \"r\") \n",
    "lines = file.readlines()\n",
    "for l in range(3): print(lines[l][:-1])"
   ]
  },
  {
   "cell_type": "markdown",
   "metadata": {},
   "source": [
    "2) Class \"Request\" parses and keeps data of a single requests. Complete the TODO, where a given \"line\" (string) should be parsed in order to dervie the ip of the host making the request, time of the request (in seconds), and target page (name)."
   ]
  },
  {
   "cell_type": "code",
   "execution_count": 97,
   "metadata": {
    "collapsed": true
   },
   "outputs": [],
   "source": [
    "date_regex_obj = re.compile(r'(?P<day>[0-9]{2})/(?P<month>\\w+)/(?P<year>[0-9]{4}):(?P<hour>[0-9]{2}):(?P<minute>[0-9]{2}):(?P<second>[0-9]{2})\\s(?P<utc_offset>[-+0-9]+)')\n",
    "\n",
    "def fix_date(string):\n",
    "    result = date_regex_obj.match(string)\n",
    "    second = int(result.group('second'))\n",
    "    minute = int(result.group('minute'))\n",
    "    hour = int(result.group('hour'))\n",
    "    day = int(result.group('day'))\n",
    "    if second >= 60:\n",
    "        minute += 1\n",
    "        second -= 60\n",
    "    if minute >= 60:\n",
    "        hour += 1\n",
    "        minute -= 60\n",
    "    if hour >= 24:\n",
    "        day += 1\n",
    "    date = datetime.datetime.strptime('{:02d}/{}/{}:{:02d}:{:02d}:{:02d} {}'.format(day, result.group('month'), result.group('year'), hour, minute, second, result.group('utc_offset')), '%d/%b/%Y:%H:%M:%S %z')\n",
    "    return date\n",
    ""
   ]
  },
  {
   "cell_type": "code",
   "execution_count": 104,
   "metadata": {},
   "outputs": [],
   "source": [
    "class Request:\n",
    "    def __init__(self, line):\n",
    "        # TODO DO PARSING HERE\n",
    "        ip, tmp = line.split(' ', 1)\n",
    "        # Because time strptime doesn't always work (when minutes or seconds = 60)\n",
    "        pattern = r'(?P<ip>[0-9]+\\.[0-9]+\\.[0-9]+\\.[0-9]+)\\s\\[(?P<date_time>.+)\\]\\s\\\"\\w+\\s(?P<site>[a-zA-Z\\.]+)'\n",
    "        match_res = re.match(pattern, line)\n",
    "        if match_res:\n",
    "            self.ip = match_res.group('ip')\n",
    "            # convert hours + minutes + seconds -> total number of seconds\n",
    "            try:\n",
    "                time_tmp = datetime.datetime.strptime(match_res.group('date_time'), '%d/%b/%Y:%H:%M:%S %z')\n",
    "            except ValueError:  # Sometimes seconds or minutes are equal to 60 in the log file\n",
    "                time_tmp = fix_date(match_res.group('date_time'))\n",
    "            hour = time_tmp.hour\n",
    "            minute = time_tmp.minute\n",
    "            second = time_tmp.second\n",
    "            self.time = second + 60*minute + 3600*hour\n",
    "            self.page = match_res.group('site')\n",
    "        else:\n",
    "            print('Error while parsing line. Match not found.')\n",
    "        \n",
    "    def __repr__(self):\n",
    "        return self.ip + \"     \" +  str(datetime.timedelta(seconds=self.time)) + \" -> \" + self.page"
   ]
  },
  {
   "cell_type": "markdown",
   "metadata": {},
   "source": [
    "3) Each line of log.txt is parsed and the Request objects are added to the list"
   ]
  },
  {
   "cell_type": "code",
   "execution_count": 105,
   "metadata": {
    "tags": [
     "outputPrepend",
     "outputPrepend"
    ]
   },
   "outputs": [
    {
     "output_type": "stream",
     "name": "stdout",
     "text": "156.15.13.173     11:13:49 -> AddProduct.html 156.15.13.173 [01/Jan/2018:11:13:49 +0100] \"GET AddProduct.html HTTP/1.0\" 200 2356\n\n176.247.135.49     11:18:07 -> Shop.html 176.247.135.49 [01/Jan/2018:11:18:07 +0100] \"GET Shop.html HTTP/1.0\" 200 7466\n\n176.247.135.49     11:19:05 -> AddProduct.html 176.247.135.49 [01/Jan/2018:11:19:05 +0100] \"GET AddProduct.html HTTP/1.0\" 200 2356\n\n176.247.135.49     11:29:05 -> Summary.html 176.247.135.49 [01/Jan/2018:11:29:05 +0100] \"GET Summary.html HTTP/1.0\" 200 2693\n\n69.84.30.199     11:43:59 -> Shop.html 69.84.30.199 [01/Jan/2018:11:43:59 +0100] \"GET Shop.html HTTP/1.0\" 200 7466\n\n69.84.30.199     11:45:16 -> AddProduct.html 69.84.30.199 [01/Jan/2018:11:45:16 +0100] \"GET AddProduct.html HTTP/1.0\" 200 2356\n\n57.116.45.120     11:46:45 -> AddProduct.html 57.116.45.120 [01/Jan/2018:11:46:45 +0100] \"GET AddProduct.html HTTP/1.0\" 200 2356\n\n69.84.30.199     11:50:36 -> Summary.html 69.84.30.199 [01/Jan/2018:11:50:36 +0100] \"GET Summary.html HTTP/1.0\" 200 2693\n\n69.84.30.199     11:52:38 -> Payment.html 69.84.30.199 [01/Jan/2018:11:52:38 +0100] \"GET Payment.html HTTP/1.0\" 200 5949\n\n26.19.183.202     11:53:11 -> AddProduct.html 26.19.183.202 [01/Jan/2018:11:53:11 +0100] \"GET AddProduct.html HTTP/1.0\" 200 2356\n\n"
    }
   ],
   "source": [
    "reqs = [Request(line) for line in lines]\n",
    "for l in range(10): print(reqs[l) "
   ]
  },
  {
   "cell_type": "markdown",
   "metadata": {},
   "source": [
    "# Exercise"
   ]
  },
  {
   "cell_type": "markdown",
   "metadata": {},
   "source": [
    "Your task is to analyze the log file. You should indentify the users and sessions. Then, compute the following: <br>\n",
    "3.1) the number of sessions (should be 1000 :) ), <br>\n",
    "3.2) the number of users, <br>\n",
    "3.3) the average number of sessions per one user <br>\n",
    "3.4) use the distribution plot to visualize the sessions' lengths (minutes);  <br>\n",
    "3.5) use the distribution plot to visualize the sessions' lengths (the number of requests) <br>\n",
    "3.6) use the distribution plot to visualize sessions' starting times (hours). <br>\n",
    "3.7) which web page is the most common entry point?; for each page plot the number of times it has been an entry page,  <br>\n",
    "3.8) which web page is the most common departure point?; for each page plot the number of times the user stopped a session while being on this page, <br>\n",
    "3.9) for each page plot the average time the user stayed on this page <br>\n",
    "3.10) print the fist 10 sessions (paths). <br>\n",
    "\n",
    "You may find the following classes helpful and data."
   ]
  },
  {
   "cell_type": "code",
   "execution_count": 13,
   "metadata": {
    "collapsed": true
   },
   "outputs": [],
   "source": [
    "class Session:\n",
    "    def __init__(self):\n",
    "        self.startTime = 0\n",
    "        self.stopTime = 0\n",
    "        self.requests = []\n",
    "        \n",
    "    def __repr__(self):\n",
    "        print(\"SESSION\")\n",
    "        print(self.startTime)\n",
    "        print(self.stopTime)\n",
    "        STR = \"\"\n",
    "        for r in self.requests:\n",
    "            print(r)\n",
    "            STR += (\"  \" + r.page + \"    \" + str(datetime.timedelta(seconds=r.time)) + \"\\n\")\n",
    "        return STR\n",
    "\n",
    "class Computer:\n",
    "    def __init__(self):\n",
    "        self.ip = []\n",
    "        self.sessions = []\n",
    "    def __repr__(self):\n",
    "        return self.ip\n",
    "\n",
    "PAGES = [\"Shop.html\", \"AddProduct.html\", \"Summary.html\", \"Payment.html\",\"About.html\", \"Contact.html\"]\n",
    "\n",
    "LINKS = [[1, 4],\n",
    "         [2,4],\n",
    "         [3],\n",
    "         [],\n",
    "         [1,5],\n",
    "         []]\n",
    "\n",
    "#plot distribution\n",
    "#count, bins, ignored = plt.hist(data, 50, alpha=0.5, normed=True)\n",
    "#plt.plot()\n",
    "\n",
    "#x_axis = np.arange(len(pages))\n",
    "#plt.bar(x_axis, data, align='center', alpha=0.5)\n",
    "#plt.xticks(y_pos, pages, rotation=90)"
   ]
  },
  {
   "cell_type": "code",
   "execution_count": null,
   "metadata": {
    "collapsed": true
   },
   "outputs": [],
   "source": []
  }
 ],
 "metadata": {
  "kernelspec": {
   "display_name": "Python 3",
   "language": "python",
   "name": "python3"
  },
  "language_info": {
   "codemirror_mode": {
    "name": "ipython",
    "version": 3
   },
   "file_extension": ".py",
   "mimetype": "text/x-python",
   "name": "python",
   "nbconvert_exporter": "python",
   "pygments_lexer": "ipython3",
   "version": "3.8.2-final"
  }
 },
 "nbformat": 4,
 "nbformat_minor": 2
}