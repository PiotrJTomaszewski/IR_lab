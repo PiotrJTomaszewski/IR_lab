{
 "cells": [
  {
   "cell_type": "code",
   "execution_count": 17,
   "metadata": {},
   "outputs": [],
   "source": [
    "import numpy as np\n",
    "import matplotlib.pyplot as plt\n",
    "import datetime\n",
    "import re"
   ]
  },
  {
   "cell_type": "markdown",
   "metadata": {},
   "source": [
    "1) Log file is loaded"
   ]
  },
  {
   "cell_type": "code",
   "execution_count": 18,
   "metadata": {},
   "outputs": [
    {
     "name": "stdout",
     "output_type": "stream",
     "text": [
      "156.15.13.173 [01/Jan/2018:11:13:49 +0100] \"GET AddProduct.html HTTP/1.0\" 200 2356\n",
      "176.247.135.49 [01/Jan/2018:11:18:07 +0100] \"GET Shop.html HTTP/1.0\" 200 7466\n",
      "176.247.135.49 [01/Jan/2018:11:19:05 +0100] \"GET AddProduct.html HTTP/1.0\" 200 2356\n"
     ]
    }
   ],
   "source": [
    "file = open(\"log.txt\", \"r\") \n",
    "lines = file.readlines()\n",
    "for l in range(3): print(lines[l][:-1])"
   ]
  },
  {
   "cell_type": "markdown",
   "metadata": {},
   "source": [
    "2) Cass \"Request\" parses and keeps data of a single requests. Complete the TODO, where a given \"line\" (string) should be parsed in order to dervie the ip of the host making the request, time of the request (in seconds), and target page (name)."
   ]
  },
  {
   "cell_type": "code",
   "execution_count": 19,
   "metadata": {},
   "outputs": [],
   "source": [
    "pattern_obj = re.compile(\n",
    "    r'(?P<ip>([0-9]+\\.){3}[0-9]+)\\s\\[[0-9]{2}/\\w+/[0-9]{4}:(?P<hour>[0-9]{2}):(?P<minute>[0-9]{2}):(?P<second>[0-9]{2}).+\\]\\s\\\"\\w+\\s(?P<site>[a-zA-Z.]+)')\n",
    "\n",
    "\n",
    "class Request:\n",
    "    def __init__(self, line):\n",
    "        # TODO DO PARSING HERE\n",
    "        match_res = pattern_obj.match(line)\n",
    "        if match_res:\n",
    "            self.ip = match_res.group('ip')\n",
    "            # convert hours + minutes + seconds -> total number of seconds\n",
    "            hour = match_res.group('hour')\n",
    "            minute = match_res.group('minute')\n",
    "            second = match_res.group('second')\n",
    "            self.time = int(second) + 60 * int(minute) + 3600 * int(hour)\n",
    "            self.page = match_res.group('site')\n",
    "        else:\n",
    "            print('Error while parsing line. Match not found.')\n",
    "\n",
    "    def __repr__(self):\n",
    "        return self.ip + \"     \" + str(datetime.timedelta(seconds=self.time)) + \" -> \" + self.page\n"
   ]
  },
  {
   "cell_type": "markdown",
   "metadata": {},
   "source": [
    "3) Each line of log.txt is parsed and the Request objects are added to the list"
   ]
  },
  {
   "cell_type": "code",
   "execution_count": 4,
   "metadata": {},
   "outputs": [
    {
     "name": "stdout",
     "output_type": "stream",
     "text": [
      "156.15.13.173     11:13:49 -> AddProduct.html\n",
      "176.247.135.49     11:18:07 -> Shop.html\n",
      "176.247.135.49     11:19:05 -> AddProduct.html\n",
      "176.247.135.49     11:29:05 -> Summary.html\n",
      "69.84.30.199     11:43:59 -> Shop.html\n",
      "69.84.30.199     11:45:16 -> AddProduct.html\n",
      "57.116.45.120     11:46:45 -> AddProduct.html\n",
      "69.84.30.199     11:50:36 -> Summary.html\n",
      "69.84.30.199     11:52:38 -> Payment.html\n",
      "26.19.183.202     11:53:11 -> AddProduct.html\n"
     ]
    }
   ],
   "source": [
    "reqs = [Request(line) for line in lines]\n",
    "for l in range(10): print(reqs[l]) "
   ]
  },
  {
   "cell_type": "markdown",
   "metadata": {},
   "source": [
    "# Exercise"
   ]
  },
  {
   "cell_type": "markdown",
   "metadata": {},
   "source": [
    "Your task is to analyze the log file. You should indentify the users and sessions. Then, compute the following: <br>\n",
    "3.1) the number of sessions (should be 1000 :) ), <br>\n",
    "3.2) the number of users, <br>\n",
    "3.3) the average number of sessions per one user <br>\n",
    "3.4) use the distribution plot to visualize the sessions' lengths (minutes);  <br>\n",
    "3.5) use the distribution plot to visualize the sessions' lengths (the number of requests) <br>\n",
    "3.6) use the distribution plot to visualize sessions' starting times (hours). <br>\n",
    "3.7) which web page is the most common entry point?; for each page plot the number of times it has been an entry page,  <br>\n",
    "3.8) which web page is the most common departure point?; for each page plot the number of times the user stopped a session while being on this page, <br>\n",
    "3.9) for each page plot the average time the user stayed on this page <br>\n",
    "3.10) print the fist 10 sessions (paths). <br>\n",
    "\n",
    "You may find the following classes helpful and data."
   ]
  },
  {
   "cell_type": "code",
   "execution_count": 20,
   "metadata": {},
   "outputs": [],
   "source": [
    "class Session:\n",
    "    def __init__(self, request):\n",
    "        self.startTime = request.time\n",
    "        self.stopTime = request.time\n",
    "        self.requests = [request]\n",
    "\n",
    "    def __repr__(self):\n",
    "        print(\"SESSION\")\n",
    "        print(self.startTime)\n",
    "        print(self.stopTime)\n",
    "        STR = \"\"\n",
    "        for r in self.requests:\n",
    "            print(r)\n",
    "            STR += (\"  \" + r.page + \"    \" + str(datetime.timedelta(seconds=r.time)) + \"\\n\")\n",
    "        return STR\n",
    "\n",
    "    def add_request(self, request):\n",
    "        self.requests.append(request)\n",
    "        self.stopTime = request.time\n",
    "\n",
    "    def get_delta_time_on_page(self, current_time):\n",
    "        return current_time - self.stopTime\n",
    "\n",
    "    def get_delta_time_session(self, current_time):\n",
    "        return current_time - self.startTime\n",
    "\n",
    "    def is_linked_to_or_same(self, query_page):\n",
    "        query_page_index = PAGES.index(query_page)\n",
    "        for req in self.requests:\n",
    "            if query_page == req.page:\n",
    "                return True\n",
    "            req_page_index = PAGES.index(req.page)\n",
    "            if query_page_index in LINKS[req_page_index]:\n",
    "                return True\n",
    "        return False\n",
    "\n",
    "\n",
    "class Computer:\n",
    "    def __init__(self, ip):\n",
    "        self.ip = ip\n",
    "        self.sessions = []\n",
    "\n",
    "    def __repr__(self):\n",
    "        return self.ip\n",
    "\n",
    "    def add_req_to_last_session(self, request):\n",
    "        self.sessions[-1].add_request(request)\n",
    "\n",
    "    def create_new_session(self, first_request):\n",
    "        self.sessions.append(Session(request=first_request))\n",
    "\n",
    "    def last_sess_get_delta_time_on_page(self, current_time):\n",
    "        if len(self.sessions) > 0:\n",
    "            return self.sessions[-1].get_delta_time_on_page(current_time)\n",
    "        else:\n",
    "            return 0\n",
    "\n",
    "    def last_sess_get_delta_time(self, current_time):\n",
    "        if len(self.sessions) > 0:\n",
    "            return self.sessions[-1].get_delta_time_session(current_time)\n",
    "        else:\n",
    "            return 0\n",
    "\n",
    "    def last_sess_is_linked_to_or_same(self, page):\n",
    "        if len(self.sessions) > 0:\n",
    "            return self.sessions[-1].is_linked_to_or_same(page)\n",
    "        else:\n",
    "            return False\n",
    "\n",
    "\n",
    "PAGES = [\"Shop.html\", \"AddProduct.html\", \"Summary.html\", \"Payment.html\", \"About.html\", \"Contact.html\"]\n",
    "\n",
    "LINKS = [[1, 4],\n",
    "         [2, 4],\n",
    "         [3],\n",
    "         [],\n",
    "         [1, 5],\n",
    "         []]\n",
    "\n",
    "theta = 40 * 60  # Max session time in seconds\n",
    "delta = 15 * 60  # Max time on a single page in seconds\n",
    "\n",
    "computers = {}\n",
    "global_sessions = []  # A list of all the sessions (because we need to know the first 10 sessions)\n",
    "\n",
    "# Finding sessions\n",
    "for req in reqs:\n",
    "    comp = computers.get(req.ip)\n",
    "    if not comp:\n",
    "        comp = Computer(req.ip)\n",
    "        computers[comp.ip] = comp\n",
    "    if comp.last_sess_get_delta_time(req.time) > theta:\n",
    "        comp.create_new_session(first_request=req)\n",
    "        global_sessions.append(comp.sessions[-1])  # A list is passed as a reference so it will be up to date\n",
    "    elif comp.last_sess_get_delta_time_on_page(req.time) > delta:\n",
    "        comp.create_new_session(first_request=req)\n",
    "        global_sessions.append(comp.sessions[-1])\n",
    "    elif comp.last_sess_is_linked_to_or_same(req.page):\n",
    "        comp.add_req_to_last_session(req)\n",
    "    else:\n",
    "        comp.create_new_session(first_request=req)\n",
    "        global_sessions.append(comp.sessions[-1])"
   ]
  },
  {
   "cell_type": "code",
   "execution_count": 24,
   "metadata": {
    "scrolled": false
   },
   "outputs": [
    {
     "name": "stdout",
     "output_type": "stream",
     "text": [
      "----Total number of sessions----\n",
      "1000\n",
      "----Total number of users----\n",
      "391\n",
      "----Average number of sessions per one user\n",
      "2.558\n"
     ]
    },
    {
     "data": {
      "image/png": "[encoded data removed]",
      "text/plain": [
       "<Figure size 432x288 with 1 Axes>"
      ]
     },
     "metadata": {
      "needs_background": "light"
     },
     "output_type": "display_data"
    },
    {
     "data": {
      "image/png": "[encoded data removed]",
      "text/plain": [
       "<Figure size 432x288 with 1 Axes>"
      ]
     },
     "metadata": {
      "needs_background": "light"
     },
     "output_type": "display_data"
    },
    {
     "data": {
      "image/png": "[encoded data removed]",
      "text/plain": [
       "<Figure size 432x288 with 1 Axes>"
      ]
     },
     "metadata": {
      "needs_background": "light"
     },
     "output_type": "display_data"
    },
    {
     "data": {
      "image/png": "[encoded data removed]",
      "text/plain": [
       "<Figure size 432x288 with 1 Axes>"
      ]
     },
     "metadata": {
      "needs_background": "light"
     },
     "output_type": "display_data"
    },
    {
     "data": {
      "image/png": "[encoded data removed]",
      "text/plain": [
       "<Figure size 432x288 with 1 Axes>"
      ]
     },
     "metadata": {
      "needs_background": "light"
     },
     "output_type": "display_data"
    },
    {
     "name": "stdout",
     "output_type": "stream",
     "text": [
      "----The most common entry point----\n",
      "Shop.html -> 689 times an entry point\n"
     ]
    },
    {
     "data": {
      "image/png": "[encoded data removed]",
      "text/plain": [
       "<Figure size 432x288 with 1 Axes>"
      ]
     },
     "metadata": {
      "needs_background": "light"
     },
     "output_type": "display_data"
    },
    {
     "data": {
      "image/png": "[encoded data removed]",
      "text/plain": [
       "<Figure size 432x288 with 1 Axes>"
      ]
     },
     "metadata": {
      "needs_background": "light"
     },
     "output_type": "display_data"
    },
    {
     "name": "stdout",
     "output_type": "stream",
     "text": [
      "----The most common departure point----\n",
      "AddProduct.html -> 305 times a departure point\n"
     ]
    },
    {
     "data": {
      "image/png": "[encoded data removed]",
      "text/plain": [
       "<Figure size 432x288 with 1 Axes>"
      ]
     },
     "metadata": {
      "needs_background": "light"
     },
     "output_type": "display_data"
    },
    {
     "data": {
      "image/png": "[encoded data removed]",
      "text/plain": [
       "<Figure size 432x288 with 1 Axes>"
      ]
     },
     "metadata": {
      "needs_background": "light"
     },
     "output_type": "display_data"
    },
    {
     "name": "stdout",
     "output_type": "stream",
     "text": [
      "----First ten sessions----\n",
      "SESSION\n",
      "40429\n",
      "40429\n",
      "156.15.13.173     11:13:49 -> AddProduct.html\n",
      "  AddProduct.html    11:13:49\n",
      "\n",
      "SESSION\n",
      "40687\n",
      "41345\n",
      "176.247.135.49     11:18:07 -> Shop.html\n",
      "176.247.135.49     11:19:05 -> AddProduct.html\n",
      "176.247.135.49     11:29:05 -> Summary.html\n",
      "  Shop.html    11:18:07\n",
      "  AddProduct.html    11:19:05\n",
      "  Summary.html    11:29:05\n",
      "\n",
      "SESSION\n",
      "42239\n",
      "42758\n",
      "69.84.30.199     11:43:59 -> Shop.html\n",
      "69.84.30.199     11:45:16 -> AddProduct.html\n",
      "69.84.30.199     11:50:36 -> Summary.html\n",
      "69.84.30.199     11:52:38 -> Payment.html\n",
      "  Shop.html    11:43:59\n",
      "  AddProduct.html    11:45:16\n",
      "  Summary.html    11:50:36\n",
      "  Payment.html    11:52:38\n",
      "\n",
      "SESSION\n",
      "42405\n",
      "42927\n",
      "57.116.45.120     11:46:45 -> AddProduct.html\n",
      "57.116.45.120     11:53:25 -> Summary.html\n",
      "57.116.45.120     11:55:27 -> Payment.html\n",
      "  AddProduct.html    11:46:45\n",
      "  Summary.html    11:53:25\n",
      "  Payment.html    11:55:27\n",
      "\n",
      "SESSION\n",
      "42791\n",
      "43610\n",
      "26.19.183.202     11:53:11 -> AddProduct.html\n",
      "26.19.183.202     11:59:00 -> About.html\n",
      "26.19.183.202     12:06:50 -> Contact.html\n",
      "  AddProduct.html    11:53:11\n",
      "  About.html    11:59:00\n",
      "  Contact.html    12:06:50\n",
      "\n",
      "SESSION\n",
      "43489\n",
      "43574\n",
      "76.75.209.209     12:04:49 -> Shop.html\n",
      "76.75.209.209     12:06:14 -> AddProduct.html\n",
      "  Shop.html    12:04:49\n",
      "  AddProduct.html    12:06:14\n",
      "\n",
      "SESSION\n",
      "43765\n",
      "43838\n",
      "167.139.89.69     12:09:25 -> Shop.html\n",
      "167.139.89.69     12:10:38 -> About.html\n",
      "  Shop.html    12:09:25\n",
      "  About.html    12:10:38\n",
      "\n",
      "SESSION\n",
      "43837\n",
      "44498\n",
      "30.60.2.154     12:10:37 -> Shop.html\n",
      "30.60.2.154     12:12:01 -> About.html\n",
      "30.60.2.154     12:21:38 -> Contact.html\n",
      "  Shop.html    12:10:37\n",
      "  About.html    12:12:01\n",
      "  Contact.html    12:21:38\n",
      "\n",
      "SESSION\n",
      "43866\n",
      "43866\n",
      "156.128.6.230     12:11:06 -> Shop.html\n",
      "  Shop.html    12:11:06\n",
      "\n",
      "SESSION\n",
      "44011\n",
      "44011\n",
      "8.253.57.224     12:13:31 -> AddProduct.html\n",
      "  AddProduct.html    12:13:31\n",
      "\n"
     ]
    }
   ],
   "source": [
    "# Sessions processing and display\n",
    "sess_len_minutes = []\n",
    "sess_req_num = []\n",
    "sess_start_time_hours = []\n",
    "entry_points = {}\n",
    "departure_points = {}\n",
    "\n",
    "for page in PAGES:\n",
    "    entry_points[page] = 0\n",
    "    departure_points[page] = 0\n",
    "\n",
    "\n",
    "for sess in global_sessions:\n",
    "    length = sess.stopTime - sess.startTime\n",
    "    sess_len_minutes.append(length / 60)\n",
    "    sess_req_num.append(len(sess.requests))\n",
    "    sess_start_time_hours.append(int(sess.startTime / 3600))\n",
    "    entry_points[sess.requests[0].page] += 1\n",
    "    departure_points[sess.requests[-1].page] += 1\n",
    "\n",
    "# 3.1) the number of sessions (should be 1000 :) )\n",
    "print('----Total number of sessions----')\n",
    "print(len(global_sessions))\n",
    "\n",
    "# 3.2) the number of users\n",
    "print('----Total number of users----')\n",
    "print(len(computers))\n",
    "\n",
    "# 3.3) the average number of sessions per one user\n",
    "print('----Average number of sessions per one user')\n",
    "print(round(len(global_sessions) / len(computers), 3))\n",
    "\n",
    "\n",
    "#  3.4) use the distribution plot to visualize the sessions' lengths (minutes);\n",
    "sess_len_minutes_array = np.array(sess_len_minutes)\n",
    "bins = np.arange(np.floor(sess_len_minutes_array.min()),np.ceil(sess_len_minutes_array.max()))\n",
    "plt.hist(sess_len_minutes_array, bins, alpha=0.5, density=True)\n",
    "plt.title('Session\\'s lengths [minutes]')\n",
    "plt.show()\n",
    "\n",
    "# 3.5) use the distribution plot to visualize the sessions' lengths (the number of requests)\n",
    "sess_req_num_array = np.array(sess_req_num)\n",
    "bins = np.arange(np.floor(sess_req_num_array.min()),np.ceil(sess_req_num_array.max()))\n",
    "plt.hist(sess_req_num_array, bins, alpha=0.5, density=True)\n",
    "plt.title('Session\\'s lengths [number of requests]')\n",
    "plt.show()\n",
    "\n",
    "# 3.6) use the distribution plot to visualize sessions' starting times (hours)\n",
    "sess_start_time_hours_array = np.array(sess_start_time_hours)\n",
    "bins = np.arange(np.floor(sess_start_time_hours_array.min()),np.ceil(sess_start_time_hours_array.max()))\n",
    "plt.hist(sess_start_time_hours_array, bins, alpha=0.5, density=True)\n",
    "plt.title('Sessions\\' starting times [hours]')\n",
    "plt.show()\n",
    "\n",
    "\n",
    "# 3.7) which web page is the most common entry point?; for each page plot the number of times it has been an entry page\n",
    "plt.bar(np.arange(len(entry_points.values())), entry_points.values(), log=True, align='center', alpha=0.5)\n",
    "plt.xticks(np.arange(len(entry_points.keys())), labels=entry_points.keys(), rotation='vertical')\n",
    "plt.title('Most common entry point (log)')\n",
    "plt.show()\n",
    "plt.bar(np.arange(len(entry_points.values())), entry_points.values(), align='center', alpha=0.5)\n",
    "plt.xticks(np.arange(len(entry_points.keys())), labels=entry_points.keys(), rotation='vertical')\n",
    "plt.title('Most common entry point')\n",
    "plt.show()\n",
    "print('----The most common entry point----')\n",
    "most_common_no = 0\n",
    "most_common = ''\n",
    "for k, v in entry_points.items():\n",
    "    if v > most_common_no:\n",
    "        most_common_no = v\n",
    "        most_common = k\n",
    "print('{} -> {} times an entry point'.format(most_common, most_common_no))\n",
    "\n",
    "# 3.8) which web page is the most common departure point?;\n",
    "# for each page plot the number of times the user stopped a session while being on this page\n",
    "plt.bar(np.arange(len(departure_points.values())), departure_points.values(), log=True, align='center', alpha=0.5)\n",
    "plt.xticks(np.arange(len(departure_points.keys())), labels=departure_points.keys(), rotation='vertical')\n",
    "plt.title('Most common departure point (log)')\n",
    "plt.show()\n",
    "plt.bar(np.arange(len(departure_points.values())), departure_points.values(), align='center', alpha=0.5)\n",
    "plt.xticks(np.arange(len(departure_points.keys())), labels=departure_points.keys(), rotation='vertical')\n",
    "plt.title('Most common departure point')\n",
    "plt.show()\n",
    "print('----The most common departure point----')\n",
    "most_common_no = 0\n",
    "most_common = ''\n",
    "for k, v in departure_points.items():\n",
    "    if v > most_common_no:\n",
    "        most_common_no = v\n",
    "        most_common = k\n",
    "print('{} -> {} times a departure point'.format(most_common, most_common_no))\n",
    "\n",
    "# 3.9) for each page plot the average time the user stayed on this page\n",
    "time_on_page = {}\n",
    "visits = {}\n",
    "for page in PAGES:\n",
    "    time_on_page[page] = 0\n",
    "    visits[page] = 0\n",
    "\n",
    "\n",
    "for session in global_sessions:\n",
    "    for i, request in enumerate(session.requests):\n",
    "        if i < len(session.requests) - 1: # We can't tell a time spent on the last page in session\n",
    "            next_request = session.requests[i+1]\n",
    "            time_on_page[request.page] += next_request.time - request.time\n",
    "            visits[request.page] += 1\n",
    "avg_time_on_page = {}\n",
    "for page in PAGES:\n",
    "    if visits[page] > 0:\n",
    "        avg_time_on_page[page] = (time_on_page[page] / visits[page])/60\n",
    "    else:\n",
    "        avg_time_on_page[page] = 0\n",
    "plt.bar(np.arange(len(avg_time_on_page.values())), avg_time_on_page.values(), log=True, align='center', alpha=0.5)\n",
    "plt.xticks(np.arange(len(avg_time_on_page.keys())), labels=avg_time_on_page.keys(), rotation='vertical')\n",
    "plt.title('Average time spent on a page on a page [minutes] (log)')\n",
    "plt.show()\n",
    "plt.bar(np.arange(len(avg_time_on_page.values())), avg_time_on_page.values(), align='center', alpha=0.5)\n",
    "plt.xticks(np.arange(len(avg_time_on_page.keys())), labels=avg_time_on_page.keys(), rotation='vertical')\n",
    "plt.title('Average time spent on a page on a page [minutes]')\n",
    "plt.show()\n",
    "\n",
    "# 3.10) print the first 10 sessions (paths).\n",
    "print('----First ten sessions----')\n",
    "for i in range(10):\n",
    "    print(global_sessions[i])\n"
   ]
  }
 ],
 "metadata": {
  "kernelspec": {
   "display_name": "Python 3",
   "language": "python",
   "name": "python3"
  },
  "language_info": {
   "codemirror_mode": {
    "name": "ipython",
    "version": 3
   },
   "file_extension": ".py",
   "mimetype": "text/x-python",
   "name": "python",
   "nbconvert_exporter": "python",
   "pygments_lexer": "ipython3",
   "version": "3.8.2"
  }
 },
 "nbformat": 4,
 "nbformat_minor": 2
}
